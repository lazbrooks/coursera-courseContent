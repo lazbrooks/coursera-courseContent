{
  "metadata": {
    "kernelspec": {
      "name": "python",
      "display_name": "Pyolite",
      "language": "python"
    },
    "language_info": {
      "codemirror_mode": {
        "name": "python",
        "version": 3
      },
      "file_extension": ".py",
      "mimetype": "text/x-python",
      "name": "python",
      "nbconvert_exporter": "python",
      "pygments_lexer": "ipython3",
      "version": "3.8"
    }
  },
  "nbformat_minor": 4,
  "nbformat": 4,
  "cells": [
    {
      "cell_type": "markdown",
      "source": "<center>\n    <img src=\"https://cf-courses-data.s3.us.cloud-object-storage.appdomain.cloud/IBMDeveloperSkillsNetwork-DS0105EN-SkillsNetwork/labs/Module2/images/SN_web_lightmode.png\" width=\"300\" alt=\"cognitiveclass.ai logo\"  />\n</center>\n",
      "metadata": {}
    },
    {
      "cell_type": "markdown",
      "source": "# My Jupyter Notebook on IBM Watson Studio",
      "metadata": {}
    },
    {
      "cell_type": "markdown",
      "source": "__Lawrence Brooks__\n<br>\nData Manager",
      "metadata": {}
    },
    {
      "cell_type": "markdown",
      "source": "_Data Science presents an opportunity to expand my skills in data wrangling, providing the tools to wrangle with purpose.\n<br>\nLearning new tools is both a way to tackle old problems in a new light and to find new challenges._\n\n",
      "metadata": {}
    },
    {
      "cell_type": "markdown",
      "source": "### The code in cell 5 (below) declares two variables, which are then printed in an f-string to give that old favourite salutation to the globe!",
      "metadata": {}
    },
    {
      "cell_type": "code",
      "source": "x = \"Hello\"\ny = \"World!\"\n\n\nprint(f\"{x} {y}\")",
      "metadata": {
        "trusted": true
      },
      "execution_count": 4,
      "outputs": [
        {
          "name": "stdout",
          "text": "Hello World!\n",
          "output_type": "stream"
        }
      ]
    },
    {
      "cell_type": "markdown",
      "source": "***\n\nOk, I'm going to count to 3...\n 1. One \n 2. Two\n 3. Three....\n\nEverybody down! It's a bulleted list!\n* Rat\n* a\n* tat\n* tat\n \nQuick! Under the table!\n\n| Header1      | Header2 | Header3     |\n| :---        |    :----:   |          ---: |\n| Value1      | Value3       | Value4   |\n| Value2   | Value4        | Value5      |\n\n\nPhew we're safe.\n\n- [x] Escape a gruesome end.\n- [x] include at least 3 of the following: horizontal rule, bulleted list, numbered list, tables, hyperlinks, images, code/syntax highlighting, blocked quotes, strikethrough.\n- [ ] Become a Data Scientist\n",
      "metadata": {}
    }
  ]
}